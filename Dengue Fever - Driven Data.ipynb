{
 "cells": [
  {
   "cell_type": "code",
   "execution_count": 1,
   "metadata": {},
   "outputs": [],
   "source": [
    "#driven data dengue fever contest\n",
    "#import libraries\n",
    "import pandas as pd\n",
    "import numpy as np"
   ]
  },
  {
   "cell_type": "code",
   "execution_count": 2,
   "metadata": {},
   "outputs": [
    {
     "name": "stdout",
     "output_type": "stream",
     "text": [
      "(1872, 24)\n"
     ]
    }
   ],
   "source": [
    "#input data\n",
    "train = pd.read_csv('train.csv', na_values = [' '])\n",
    "test = pd.read_csv('test.csv', na_values = [' '])\n",
    "targets = pd.read_csv('labels.csv')\n",
    "combine = pd.concat([train, test])\n",
    "print(combine.shape)"
   ]
  },
  {
   "cell_type": "code",
   "execution_count": 3,
   "metadata": {},
   "outputs": [
    {
     "data": {
      "text/html": [
       "<div>\n",
       "<style scoped>\n",
       "    .dataframe tbody tr th:only-of-type {\n",
       "        vertical-align: middle;\n",
       "    }\n",
       "\n",
       "    .dataframe tbody tr th {\n",
       "        vertical-align: top;\n",
       "    }\n",
       "\n",
       "    .dataframe thead th {\n",
       "        text-align: right;\n",
       "    }\n",
       "</style>\n",
       "<table border=\"1\" class=\"dataframe\">\n",
       "  <thead>\n",
       "    <tr style=\"text-align: right;\">\n",
       "      <th></th>\n",
       "      <th>pct_missing</th>\n",
       "    </tr>\n",
       "  </thead>\n",
       "  <tbody>\n",
       "    <tr>\n",
       "      <th>ndvi_ne</th>\n",
       "      <td>12.660256</td>\n",
       "    </tr>\n",
       "    <tr>\n",
       "      <th>ndvi_nw</th>\n",
       "      <td>3.365385</td>\n",
       "    </tr>\n",
       "    <tr>\n",
       "      <th>station_avg_temp_c</th>\n",
       "      <td>2.938034</td>\n",
       "    </tr>\n",
       "    <tr>\n",
       "      <th>station_diur_temp_rng_c</th>\n",
       "      <td>2.938034</td>\n",
       "    </tr>\n",
       "    <tr>\n",
       "      <th>station_precip_mm</th>\n",
       "      <td>1.442308</td>\n",
       "    </tr>\n",
       "    <tr>\n",
       "      <th>station_min_temp_c</th>\n",
       "      <td>1.228632</td>\n",
       "    </tr>\n",
       "    <tr>\n",
       "      <th>ndvi_sw</th>\n",
       "      <td>1.228632</td>\n",
       "    </tr>\n",
       "    <tr>\n",
       "      <th>ndvi_se</th>\n",
       "      <td>1.228632</td>\n",
       "    </tr>\n",
       "    <tr>\n",
       "      <th>station_max_temp_c</th>\n",
       "      <td>1.228632</td>\n",
       "    </tr>\n",
       "    <tr>\n",
       "      <th>reanalysis_sat_precip_amt_mm</th>\n",
       "      <td>0.801282</td>\n",
       "    </tr>\n",
       "    <tr>\n",
       "      <th>precipitation_amt_mm</th>\n",
       "      <td>0.801282</td>\n",
       "    </tr>\n",
       "    <tr>\n",
       "      <th>reanalysis_tdtr_k</th>\n",
       "      <td>0.641026</td>\n",
       "    </tr>\n",
       "    <tr>\n",
       "      <th>reanalysis_specific_humidity_g_per_kg</th>\n",
       "      <td>0.641026</td>\n",
       "    </tr>\n",
       "    <tr>\n",
       "      <th>reanalysis_relative_humidity_percent</th>\n",
       "      <td>0.641026</td>\n",
       "    </tr>\n",
       "    <tr>\n",
       "      <th>reanalysis_precip_amt_kg_per_m2</th>\n",
       "      <td>0.641026</td>\n",
       "    </tr>\n",
       "    <tr>\n",
       "      <th>reanalysis_max_air_temp_k</th>\n",
       "      <td>0.641026</td>\n",
       "    </tr>\n",
       "    <tr>\n",
       "      <th>reanalysis_dew_point_temp_k</th>\n",
       "      <td>0.641026</td>\n",
       "    </tr>\n",
       "    <tr>\n",
       "      <th>reanalysis_avg_temp_k</th>\n",
       "      <td>0.641026</td>\n",
       "    </tr>\n",
       "    <tr>\n",
       "      <th>reanalysis_air_temp_k</th>\n",
       "      <td>0.641026</td>\n",
       "    </tr>\n",
       "    <tr>\n",
       "      <th>reanalysis_min_air_temp_k</th>\n",
       "      <td>0.641026</td>\n",
       "    </tr>\n",
       "  </tbody>\n",
       "</table>\n",
       "</div>"
      ],
      "text/plain": [
       "                                       pct_missing\n",
       "ndvi_ne                                  12.660256\n",
       "ndvi_nw                                   3.365385\n",
       "station_avg_temp_c                        2.938034\n",
       "station_diur_temp_rng_c                   2.938034\n",
       "station_precip_mm                         1.442308\n",
       "station_min_temp_c                        1.228632\n",
       "ndvi_sw                                   1.228632\n",
       "ndvi_se                                   1.228632\n",
       "station_max_temp_c                        1.228632\n",
       "reanalysis_sat_precip_amt_mm              0.801282\n",
       "precipitation_amt_mm                      0.801282\n",
       "reanalysis_tdtr_k                         0.641026\n",
       "reanalysis_specific_humidity_g_per_kg     0.641026\n",
       "reanalysis_relative_humidity_percent      0.641026\n",
       "reanalysis_precip_amt_kg_per_m2           0.641026\n",
       "reanalysis_max_air_temp_k                 0.641026\n",
       "reanalysis_dew_point_temp_k               0.641026\n",
       "reanalysis_avg_temp_k                     0.641026\n",
       "reanalysis_air_temp_k                     0.641026\n",
       "reanalysis_min_air_temp_k                 0.641026"
      ]
     },
     "execution_count": 3,
     "metadata": {},
     "output_type": "execute_result"
    }
   ],
   "source": [
    "na_data = (combine.isnull().sum() / len(combine)) * 100\n",
    "na_data = na_data.drop(na_data[na_data == 0].index).sort_values(ascending=False)[:40]\n",
    "missing_data = pd.DataFrame(na_data, columns = ['pct_missing'])\n",
    "missing_data.head(40)"
   ]
  },
  {
   "cell_type": "code",
   "execution_count": 4,
   "metadata": {},
   "outputs": [
    {
     "data": {
      "text/plain": [
       "Index(['reanalysis_sat_precip_amt_mm', 'precipitation_amt_mm',\n",
       "       'reanalysis_tdtr_k', 'reanalysis_specific_humidity_g_per_kg',\n",
       "       'reanalysis_relative_humidity_percent',\n",
       "       'reanalysis_precip_amt_kg_per_m2', 'reanalysis_max_air_temp_k',\n",
       "       'reanalysis_dew_point_temp_k', 'reanalysis_avg_temp_k',\n",
       "       'reanalysis_air_temp_k', 'reanalysis_min_air_temp_k'],\n",
       "      dtype='object')"
      ]
     },
     "execution_count": 4,
     "metadata": {},
     "output_type": "execute_result"
    }
   ],
   "source": [
    "small_na = missing_data[missing_data['pct_missing'] < 1].index\n",
    "small_na"
   ]
  },
  {
   "cell_type": "code",
   "execution_count": 5,
   "metadata": {},
   "outputs": [],
   "source": [
    "#replace each column with under 1% NaNs with mean.\n",
    "for c in small_na:\n",
    "    combine[c] = combine[c].fillna(combine[c].mean())"
   ]
  },
  {
   "cell_type": "code",
   "execution_count": 6,
   "metadata": {},
   "outputs": [],
   "source": [
    "cols = na_data.index"
   ]
  },
  {
   "cell_type": "code",
   "execution_count": 7,
   "metadata": {},
   "outputs": [],
   "source": [
    "from numpy import isnan\n",
    "from sklearn.impute import KNNImputer\n",
    "from sklearn.preprocessing import MinMaxScaler\n",
    "X = combine[['ndvi_ne', 'ndvi_nw', 'ndvi_se', 'ndvi_sw']]"
   ]
  },
  {
   "cell_type": "code",
   "execution_count": 8,
   "metadata": {},
   "outputs": [
    {
     "data": {
      "text/plain": [
       "False"
      ]
     },
     "execution_count": 8,
     "metadata": {},
     "output_type": "execute_result"
    }
   ],
   "source": [
    "imputer = KNNImputer(n_neighbors=5)\n",
    "X = pd.DataFrame(imputer.fit_transform(X),columns = X.columns)\n",
    "X.isnull().sum().any()"
   ]
  },
  {
   "cell_type": "code",
   "execution_count": 9,
   "metadata": {},
   "outputs": [
    {
     "name": "stdout",
     "output_type": "stream",
     "text": [
      "(1872, 4)\n",
      "(1872, 24)\n"
     ]
    }
   ],
   "source": [
    "print(X.shape)\n",
    "print(combine.shape)"
   ]
  },
  {
   "cell_type": "code",
   "execution_count": 10,
   "metadata": {},
   "outputs": [],
   "source": [
    "combine['ndvi_ne'] = X['ndvi_ne']\n",
    "combine['ndvi_nw'] = X['ndvi_nw']\n",
    "combine['ndvi_se'] = X['ndvi_se']\n",
    "combine['ndvi_sw'] = X['ndvi_sw']"
   ]
  },
  {
   "cell_type": "code",
   "execution_count": 11,
   "metadata": {},
   "outputs": [],
   "source": [
    "X = combine[['station_diur_temp_rng_c', 'station_avg_temp_c', 'station_min_temp_c', 'station_max_temp_c']]"
   ]
  },
  {
   "cell_type": "code",
   "execution_count": 12,
   "metadata": {},
   "outputs": [
    {
     "data": {
      "text/plain": [
       "False"
      ]
     },
     "execution_count": 12,
     "metadata": {},
     "output_type": "execute_result"
    }
   ],
   "source": [
    "imputer = KNNImputer(n_neighbors=5)\n",
    "X = pd.DataFrame(imputer.fit_transform(X),columns = X.columns)\n",
    "X.isnull().sum().any()"
   ]
  },
  {
   "cell_type": "code",
   "execution_count": 13,
   "metadata": {},
   "outputs": [],
   "source": [
    "combine['station_diur_temp_rng_c'] = X['station_diur_temp_rng_c']\n",
    "combine['station_avg_temp_c'] = X['station_avg_temp_c']\n",
    "combine['station_min_temp_c'] = X['station_min_temp_c']\n",
    "combine['station_max_temp_c'] = X['station_max_temp_c']"
   ]
  },
  {
   "cell_type": "code",
   "execution_count": null,
   "metadata": {},
   "outputs": [],
   "source": [
    "X = combine[['station_precip_min', ]]"
   ]
  },
  {
   "cell_type": "code",
   "execution_count": null,
   "metadata": {},
   "outputs": [],
   "source": [
    "combine['city'].value_counts()"
   ]
  },
  {
   "cell_type": "code",
   "execution_count": null,
   "metadata": {},
   "outputs": [],
   "source": [
    "combine['precipitation_amt_mm'].plot(kind = 'density')\n",
    "plt.legend\n",
    "fig.show"
   ]
  },
  {
   "cell_type": "code",
   "execution_count": null,
   "metadata": {},
   "outputs": [],
   "source": []
  }
 ],
 "metadata": {
  "kernelspec": {
   "display_name": "Python 3",
   "language": "python",
   "name": "python3"
  },
  "language_info": {
   "codemirror_mode": {
    "name": "ipython",
    "version": 3
   },
   "file_extension": ".py",
   "mimetype": "text/x-python",
   "name": "python",
   "nbconvert_exporter": "python",
   "pygments_lexer": "ipython3",
   "version": "3.7.6"
  }
 },
 "nbformat": 4,
 "nbformat_minor": 4
}
