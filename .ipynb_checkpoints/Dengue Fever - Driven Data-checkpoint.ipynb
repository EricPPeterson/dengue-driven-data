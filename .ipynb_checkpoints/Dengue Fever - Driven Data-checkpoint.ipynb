{
 "cells": [
  {
   "cell_type": "code",
   "execution_count": null,
   "metadata": {},
   "outputs": [],
   "source": [
    "#driven data dengue fever contest\n",
    "#import libraries\n",
    "import pandas as pd"
   ]
  },
  {
   "cell_type": "code",
   "execution_count": null,
   "metadata": {},
   "outputs": [],
   "source": [
    "#input data\n",
    "train = pd.read_csv('train.csv')\n",
    "test = pd.read_csv('test.csv')\n",
    "targets = pd.read_csv('labels.csv')\n",
    "combine = pd.concat([train, test])\n",
    "print(combine.shape)"
   ]
  },
  {
   "cell_type": "code",
   "execution_count": null,
   "metadata": {},
   "outputs": [],
   "source": [
    "na_data = combine.isnull().sum() / len(combine)\n",
    "na_data = na_data.drop(na_data[na_data == 0].index).sort_values(ascending=False)[:40]\n",
    "missing_data = pd.DataFrame(na_data, columns = ['pct_missing'])\n",
    "missing_data.head(40)"
   ]
  },
  {
   "cell_type": "code",
   "execution_count": null,
   "metadata": {},
   "outputs": [],
   "source": [
    "small_na = missing_data[missing_data['pct_missing'] < 0.01].index\n",
    "small_na"
   ]
  },
  {
   "cell_type": "code",
   "execution_count": null,
   "metadata": {},
   "outputs": [],
   "source": [
    "#replace each column with under 1% NaNs with mean.\n",
    "for c in small_na:\n",
    "    combine[c] = combine[c].fillna(combine[c].mean())"
   ]
  },
  {
   "cell_type": "code",
   "execution_count": null,
   "metadata": {},
   "outputs": [],
   "source": [
    "na_data = combine.isnull().sum() / len(combine)\n",
    "na_data = na_data.drop(na_data[na_data == 0].index).sort_values(ascending=False)[:40]\n",
    "missing_data = pd.DataFrame(na_data, columns = ['pct_missing'])\n",
    "missing_data.head(15)"
   ]
  },
  {
   "cell_type": "code",
   "execution_count": null,
   "metadata": {},
   "outputs": [],
   "source": [
    "cols = ['ndvi_ne', 'ndvi_nw', 'station_diur_temp_rng_c', 'stat_avg_temp_c', 'station_precip_mm', 'station_min_temp_c', \n",
    "        'station_max_temp_c', 'ndvi_sw', 'ndvi_se']"
   ]
  },
  {
   "cell_type": "code",
   "execution_count": null,
   "metadata": {},
   "outputs": [],
   "source": [
    "import matplotlib.pyplot as plt\n",
    "%matplotlib inline\n",
    "fig, ax = plt.subplots()\n",
    "hist = combine[['ndvi_ne', 'ndvi_nw', 'ndvi_se', 'ndvi_sw']]\n",
    "for s in hist.columns:\n",
    "    hist[s].plot(kind = 'density')\n",
    "ax.legend()\n",
    "plt.show()"
   ]
  },
  {
   "cell_type": "code",
   "execution_count": null,
   "metadata": {},
   "outputs": [],
   "source": [
    "from sklearn.model_selection import train_test_split\n",
    "train_fill, test_fill = train_test_split(combine[cols], test_size = 0.2)"
   ]
  },
  {
   "cell_type": "code",
   "execution_count": null,
   "metadata": {},
   "outputs": [],
   "source": [
    "x_train_fill = train_fill.drop(['ndvi_ne'], axis = 1) \n",
    "y_train_fill = train_fill['ndvi_ne']\n",
    "x_test_fill = test_fill.drop(['ndvi_ne'], axis = 1)\n",
    "y_test_fill = test_fill['ndvi_ne']"
   ]
  },
  {
   "cell_type": "code",
   "execution_count": null,
   "metadata": {},
   "outputs": [],
   "source": [
    "from sklearn.preprocessing import MinMaxScaler\n",
    "scaler = MinMaxScaler(feature_range = (0,1))"
   ]
  },
  {
   "cell_type": "code",
   "execution_count": null,
   "metadata": {},
   "outputs": [],
   "source": [
    "from sklearn import neighbors\n",
    "from sklearn.metrics import mean_squared_error\n",
    "from math import sqrt\n",
    "X, y = combine['ndvi_ne'], combine[['ndvi_nw', 'ndvi_se', 'ndvi_sw']]\n"
   ]
  },
  {
   "cell_type": "code",
   "execution_count": null,
   "metadata": {},
   "outputs": [],
   "source": [
    "combine['city'].value_counts()"
   ]
  },
  {
   "cell_type": "code",
   "execution_count": null,
   "metadata": {},
   "outputs": [],
   "source": [
    "combine['precipitation_amt_mm'].plot(kind = 'density')\n",
    "plt.legend\n",
    "fig.show"
   ]
  },
  {
   "cell_type": "code",
   "execution_count": null,
   "metadata": {},
   "outputs": [],
   "source": []
  }
 ],
 "metadata": {
  "kernelspec": {
   "display_name": "Python 3",
   "language": "python",
   "name": "python3"
  },
  "language_info": {
   "codemirror_mode": {
    "name": "ipython",
    "version": 3
   },
   "file_extension": ".py",
   "mimetype": "text/x-python",
   "name": "python",
   "nbconvert_exporter": "python",
   "pygments_lexer": "ipython3",
   "version": "3.7.6"
  }
 },
 "nbformat": 4,
 "nbformat_minor": 4
}
